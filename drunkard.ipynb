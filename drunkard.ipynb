{
 "cells": [
  {
   "cell_type": "code",
   "execution_count": 1,
   "metadata": {
    "collapsed": false
   },
   "outputs": [],
   "source": [
    "import numpy as np\n",
    "import matplotlib as mp\n",
    "%matplotlib inline"
   ]
  },
  {
   "cell_type": "markdown",
   "metadata": {},
   "source": [
    "Пусть функция $p(i, N)$ показывает вероятность того, что находящийся в позиции $i \\geq 0$ пьяница через $N \\geq 0$ шагов останется жив.\n",
    "Функцию $p$ можно вычислить рекурсивно по следующей формуле:\n",
    "$$ p(i,N) = \\frac{1}{3} p(i-1,N-1) + \\frac{2}{3} p(i+1,N-1) $$\n",
    "То есть, пьяница совершает либо шаг вперед с вероятностью $\\frac{1}{3}$, либо с вероятностью $\\frac{2}{3}$ шаг назад и продолжает ходить, пока у него не кончатся ходы, или пока он не упадёт. Эти дополнительные условия можно записать как:\n",
    "$$ \\forall N\\geq0: p(i,N) = 0 \\text{, пьяница упал} $$\n",
    "$$ \\forall i>0: p(i,0) = 1 \\text{, кончились ходы, пьяница жив} $$\n",
    "\n",
    "Но рекурсия будет работать очень медленно, потому что большое количество раз будет вычислять одни и те же значения, поэтому можно завести массив `cache`, в котором мы будем хранить уже высчитанные значения $p(i,n)$."
   ]
  },
  {
   "cell_type": "code",
   "execution_count": 2,
   "metadata": {
    "collapsed": true
   },
   "outputs": [],
   "source": [
    "cache = np.empty([1000,1000]) - 1 # инициализируем массив -1-ми, которые означают,\n",
    "                                  # что данное значение функции вычислено не было\n",
    "cache[:,0] = np.ones(1000)  # кончились ходы, пьяница жив\n",
    "cache[0,:] = np.zeros(1000) # пьяница упал"
   ]
  },
  {
   "cell_type": "markdown",
   "metadata": {},
   "source": [
    "В результате, `cache[i,N]` будет равна значению функции $p(i,N)$."
   ]
  },
  {
   "cell_type": "code",
   "execution_count": 3,
   "metadata": {
    "collapsed": false
   },
   "outputs": [],
   "source": [
    "def drunkard_alive(n):\n",
    "    def P(i, N):\n",
    "        if cache[i, N] != -1: \n",
    "            return cache[i,N]\n",
    "        cache[i,N] = P(i-1,N-1)*1/3 + P(i+1,N-1)*2/3\n",
    "        return cache[i,N]   \n",
    "    return P(2,n)"
   ]
  },
  {
   "cell_type": "markdown",
   "metadata": {},
   "source": [
    "Вероятность того, что пьяница не свалится через 5 ходов:"
   ]
  },
  {
   "cell_type": "code",
   "execution_count": 4,
   "metadata": {
    "collapsed": false
   },
   "outputs": [
    {
     "data": {
      "text/plain": [
       "0.83950617283950613"
      ]
     },
     "execution_count": 4,
     "metadata": {},
     "output_type": "execute_result"
    }
   ],
   "source": [
    "drunkard_alive(5)"
   ]
  },
  {
   "cell_type": "markdown",
   "metadata": {},
   "source": [
    "График функции `drunkard_alive` для $N$ от 1 до 50. "
   ]
  },
  {
   "cell_type": "code",
   "execution_count": 5,
   "metadata": {
    "collapsed": false,
    "scrolled": true
   },
   "outputs": [
    {
     "data": {
      "text/plain": [
       "[<matplotlib.lines.Line2D at 0x1c2b18490b8>]"
      ]
     },
     "execution_count": 5,
     "metadata": {},
     "output_type": "execute_result"
    },
    {
     "data": {
      "image/png": "[encoded data removed]",
      "text/plain": [
       "<matplotlib.figure.Figure at 0x1c2b1841fd0>"
      ]
     },
     "metadata": {},
     "output_type": "display_data"
    }
   ],
   "source": [
    "n = range(1,51,1)\n",
    "for i in n:\n",
    "    drunkard_alive(i)\n",
    "    \n",
    "mp.rcParams['figure.figsize'] = (15,5)\n",
    "mp.pyplot.xticks(n)\n",
    "mp.pyplot.xlabel('количество шагов')\n",
    "mp.pyplot.ylabel('вероятность выживания')\n",
    "mp.pyplot.plot(n, cache[2,1:51], '.')"
   ]
  }
 ],
 "metadata": {
  "kernelspec": {
   "display_name": "Python 3",
   "language": "python",
   "name": "python3"
  },
  "language_info": {
   "codemirror_mode": {
    "name": "ipython",
    "version": 3
   },
   "file_extension": ".py",
   "mimetype": "text/x-python",
   "name": "python",
   "nbconvert_exporter": "python",
   "pygments_lexer": "ipython3",
   "version": "3.6.0"
  }
 },
 "nbformat": 4,
 "nbformat_minor": 2
}
